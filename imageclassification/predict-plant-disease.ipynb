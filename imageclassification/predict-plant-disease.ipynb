{
 "cells": [
  {
   "cell_type": "code",
   "execution_count": null,
   "metadata": {},
   "outputs": [],
   "source": [
    "## For more info \n",
    "https://docs.aws.amazon.com/sagemaker/latest/dg/model-monitor-data-capture.html "
   ]
  },
  {
   "cell_type": "code",
   "execution_count": 28,
   "metadata": {},
   "outputs": [
    {
     "name": "stdout",
     "output_type": "stream",
     "text": [
      "batch_input: s3://classification-data-set/test\n"
     ]
    }
   ],
   "source": [
    "import boto3\n",
    "from urllib.parse import urlparse\n",
    "import json\n",
    "import numpy as np\n",
    "\n",
    "s3_client = boto3.client('s3')\n",
    "bucket='classification-data-set'\n",
    "batch_input = 's3://{}/test'.format(bucket)\n",
    "print(\"batch_input: \"+batch_input)\n",
    "\n",
    "batch_job_name = \"image-classification-model-2--2020-10-21-21-45-52\" #Model folder in bucket\n",
    "\n",
    "\n",
    "object_categories = ['Apple___Apple_scab','Apple___Black_rot','Apple___Cedar_apple_rust','Apple___healthy',\n",
    "                     'Blueberry___healthy','Cherry_(including_sour)___healthy','Cherry_(including_sour)___Powdery_mildew',\n",
    "                     'Corn_(maize)___Cercospora_leaf_spot Gray_leaf_spot','Corn_(maize)___Common_rust_','Corn_(maize)___healthy',\n",
    "                     'Corn_(maize)___Northern_Leaf_Blight','Grape___Black_rot','Grape___Esca_(Black_Measles)','Grape___healthy',\n",
    "                     'Grape___Leaf_blight_(Isariopsis_Leaf_Spot)','Orange___Haunglongbing_(Citrus_greening)','Peach___Bacterial_spot',\n",
    "                     'Peach___healthy','Pepper','_bell___Bacterial_spot','Pepper','_bell___healthy','Potato___Early_blight',\n",
    "                     'Potato___healthy','Potato___Late_blight','Raspberry___healthy','Soybean___healthy','Squash___Powdery_mildew',\n",
    "                     'Strawberry___healthy','Strawberry___Leaf_scorch','Tomato___Bacterial_spot','Tomato___Early_blight','Tomato___healthy',\n",
    "                     'Tomato___Late_blight','Tomato___Leaf_Mold','Tomato___Septoria_leaf_spot','Tomato___Spider_mites Two-spotted_spider_mite',\n",
    "                     'Tomato___Target_Spot','Tomato___Tomato_mosaic_virus','Tomato___Tomato_Yellow_Leaf_Curl_Virus']\n",
    "\n"
   ]
  },
  {
   "cell_type": "code",
   "execution_count": 16,
   "metadata": {},
   "outputs": [],
   "source": [
    "def list_objects(s3_client, bucket, prefix):\n",
    "    response = s3_client.list_objects(Bucket=bucket, Prefix=prefix)\n",
    "    objects = [content['Key'] for content in response['Contents']]\n",
    "    return objects\n",
    "\n",
    "def get_label(s3_client, bucket, prefix):\n",
    "    filename = prefix.split('/')[-1]\n",
    "    s3_client.download_file(bucket, prefix, filename)\n",
    "    with open(filename) as f:\n",
    "        data = json.load(f)\n",
    "        \n",
    "        index = np.argmax(data['prediction'])\n",
    "        probability = data['prediction'][index]\n",
    "    print(\"Result: label - \" + object_categories[index] + \", probability - \" + str(probability))\n",
    "    return object_categories[index], probability"
   ]
  },
  {
   "cell_type": "code",
   "execution_count": 20,
   "metadata": {},
   "outputs": [
    {
     "name": "stdout",
     "output_type": "stream",
     "text": [
      "inputs: \n",
      "test/\n",
      " test/AppleCedarRust1.JPG\n",
      " test/AppleScab1.JPG\n",
      " test/CornCommonRust1.JPG\n",
      " test/PotatoEarlyBlight1.JPG\n",
      " test/PotatoHealthy1.JPG\n",
      " test/TomatoEarlyBlight1.JPG\n",
      " test/TomatoYellowCurlVirus1.JPG\n",
      " test/TomatoYellowCurlVirus5.JPG\n"
     ]
    }
   ],
   "source": [
    "inputs = list_objects(s3_client, bucket, urlparse(batch_input).path.lstrip('/'))\n",
    "print(\"inputs: \")\n",
    "print(*inputs, sep=\"\\n \")\n",
    "#print(\"Sample inputs: \" + str(inputs[:2]))"
   ]
  },
  {
   "cell_type": "code",
   "execution_count": 29,
   "metadata": {},
   "outputs": [
    {
     "name": "stdout",
     "output_type": "stream",
     "text": [
      "outputs: \n",
      "image-classification-model-2--2020-10-21-21-45-52/output/AppleCedarRust1.JPG.out\n",
      " image-classification-model-2--2020-10-21-21-45-52/output/AppleScab1.JPG.out\n",
      " image-classification-model-2--2020-10-21-21-45-52/output/CornCommonRust1.JPG.out\n",
      " image-classification-model-2--2020-10-21-21-45-52/output/PotatoEarlyBlight1.JPG.out\n",
      " image-classification-model-2--2020-10-21-21-45-52/output/PotatoHealthy1.JPG.out\n",
      " image-classification-model-2--2020-10-21-21-45-52/output/TomatoEarlyBlight1.JPG.out\n",
      " image-classification-model-2--2020-10-21-21-45-52/output/TomatoYellowCurlVirus1.JPG.out\n",
      " image-classification-model-2--2020-10-21-21-45-52/output/TomatoYellowCurlVirus5.JPG.out\n",
      "======================\n",
      "\n",
      "Result: label - Apple___Cedar_apple_rust, probability - 0.9996086955070496\n",
      "Result: label - Apple___Apple_scab, probability - 0.9981800317764282\n",
      "Result: label - Corn_(maize)___Common_rust_, probability - 0.9999963045120239\n",
      "Result: label - Pepper, probability - 0.9999841451644897\n",
      "Result: label - Potato___Early_blight, probability - 0.9991016387939453\n",
      "Result: label - Strawberry___Leaf_scorch, probability - 0.9493405818939209\n",
      "Result: label - Tomato___Septoria_leaf_spot, probability - 0.9999526739120483\n",
      "Result: label - Tomato___Septoria_leaf_spot, probability - 0.9999203681945801\n"
     ]
    },
    {
     "data": {
      "text/plain": [
       "[('Apple___Cedar_apple_rust', 0.9996086955070496),\n",
       " ('Apple___Apple_scab', 0.9981800317764282),\n",
       " ('Corn_(maize)___Common_rust_', 0.9999963045120239),\n",
       " ('Pepper', 0.9999841451644897),\n",
       " ('Potato___Early_blight', 0.9991016387939453),\n",
       " ('Strawberry___Leaf_scorch', 0.9493405818939209),\n",
       " ('Tomato___Septoria_leaf_spot', 0.9999526739120483),\n",
       " ('Tomato___Septoria_leaf_spot', 0.9999203681945801)]"
      ]
     },
     "execution_count": 29,
     "metadata": {},
     "output_type": "execute_result"
    }
   ],
   "source": [
    "outputs = list_objects(s3_client, bucket, batch_job_name + \"/output\")\n",
    "print(\"outputs: \")\n",
    "print(*outputs, sep=\"\\n \")\n",
    "#print(\"Sample output: \" + str(outputs[:2]))\n",
    "print(\"======================\\n\")\n",
    "\n",
    "\n",
    "# Check prediction result of the first 2 images\n",
    "[get_label(s3_client, bucket, prefix) for prefix in outputs[0:10]]"
   ]
  }
 ],
 "metadata": {
  "kernelspec": {
   "display_name": "conda_python3",
   "language": "python",
   "name": "conda_python3"
  },
  "language_info": {
   "codemirror_mode": {
    "name": "ipython",
    "version": 3
   },
   "file_extension": ".py",
   "mimetype": "text/x-python",
   "name": "python",
   "nbconvert_exporter": "python",
   "pygments_lexer": "ipython3",
   "version": "3.6.10"
  }
 },
 "nbformat": 4,
 "nbformat_minor": 4
}
